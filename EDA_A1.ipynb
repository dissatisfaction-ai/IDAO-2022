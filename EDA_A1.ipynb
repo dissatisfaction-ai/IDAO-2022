{
 "cells": [
  {
   "cell_type": "code",
   "execution_count": null,
   "id": "d7404d17",
   "metadata": {},
   "outputs": [],
   "source": [
    "import yaml\n",
    "import json\n",
    "import plotly.express as px\n",
    "import pandas as pd\n",
    "import numpy as np\n",
    "from collections import Counter\n",
    "from pqdm.processes import pqdm\n",
    "import seaborn as sns\n",
    "from pathlib import Path\n",
    "from pymatgen.core import Structure, PeriodicSite\n",
    "from pymatgen import vis\n",
    "from sklearn.model_selection import train_test_split\n",
    "from glob import glob\n",
    "from matplotlib import pyplot as plt\n",
    "import os\n",
    "import matplotlib.pyplot as plt\n",
    "from pymatgen.util.coord import pbc_shortest_vectors\n",
    "from matplotlib.ticker import (AutoMinorLocator, MultipleLocator, LinearLocator, IndexLocator)\n",
    "\n",
    "%config InlineBackend.figure_format='retina'\n",
    "\n",
    "def read_pymatgen_dict(file):\n",
    "    with open(file, \"r\") as f:\n",
    "        d = json.load(f)\n",
    "    return Structure.from_dict(d)"
   ]
  },
  {
   "cell_type": "code",
   "execution_count": null,
   "id": "f3c982ac",
   "metadata": {},
   "outputs": [],
   "source": [
    "structures_private = [read_pymatgen_dict(p) for p in glob('data/dichalcogenides_private/structures/*')]"
   ]
  },
  {
   "cell_type": "code",
   "execution_count": null,
   "id": "0e6344c3",
   "metadata": {},
   "outputs": [],
   "source": [
    "structure_paths = os.listdir('data/dichalcogenides_public/structures/')\n",
    "structures_public = [read_pymatgen_dict(f\"data/dichalcogenides_public/structures/{p}\") for p in structure_paths]"
   ]
  },
  {
   "cell_type": "markdown",
   "id": "b168f926",
   "metadata": {},
   "source": [
    "## Spacegroups"
   ]
  },
  {
   "cell_type": "code",
   "execution_count": null,
   "id": "042782f8",
   "metadata": {},
   "outputs": [],
   "source": [
    "compute_spacegroups = lambda x: [s.get_space_group_info()[0] for s in x]\n",
    "compute_composition = lambda x: [str(s.composition) for s in x]\n",
    "\n",
    "sg_private = compute_spacegroups(structures_private)\n",
    "sg_public = compute_spacegroups(structures_public)\n",
    "\n",
    "cmp_private = compute_composition(structures_private)\n",
    "cmp_public = compute_composition(structures_public)"
   ]
  },
  {
   "cell_type": "code",
   "execution_count": null,
   "id": "790c0c36",
   "metadata": {},
   "outputs": [],
   "source": [
    "order = Counter(sg_public)\n",
    "order = list(map(lambda x: x[0], order.most_common()))\n",
    "\n",
    "plt.figure(figsize=(10, 3))\n",
    "\n",
    "plt.subplot(121)\n",
    "sns.countplot(x=sg_public, order=order)\n",
    "\n",
    "plt.subplot(122)\n",
    "sns.countplot(x=sg_private, order=order)"
   ]
  },
  {
   "cell_type": "code",
   "execution_count": null,
   "id": "bd17a66f",
   "metadata": {},
   "outputs": [],
   "source": [
    "order = Counter(cmp_public)\n",
    "order = list(map(lambda x: x[0], order.most_common()))\n",
    "\n",
    "plt.figure(figsize=(10, 3))\n",
    "\n",
    "plt.subplot(121)\n",
    "sns.countplot(x=cmp_public, order=order)\n",
    "plt.xticks(rotation=45, ha='right');\n",
    "\n",
    "plt.subplot(122)\n",
    "sns.countplot(x=cmp_private, order=order)\n",
    "plt.xticks(rotation=45, ha='right');"
   ]
  },
  {
   "cell_type": "markdown",
   "id": "1718a63f",
   "metadata": {},
   "source": [
    "## Construst DF "
   ]
  },
  {
   "cell_type": "code",
   "execution_count": null,
   "id": "a3fae720",
   "metadata": {},
   "outputs": [],
   "source": [
    "df = pd.DataFrame({'id': structure_paths, 's': structures_public})\n",
    "df['id'] = df['id'].str.split('.').str[0]"
   ]
  },
  {
   "cell_type": "code",
   "execution_count": null,
   "id": "0c22d457",
   "metadata": {},
   "outputs": [],
   "source": [
    "target = pd.read_csv('data/dichalcogenides_public/targets.csv', names=['id', 'band_gap'], skiprows=1)"
   ]
  },
  {
   "cell_type": "code",
   "execution_count": null,
   "id": "0309bdd3",
   "metadata": {},
   "outputs": [],
   "source": [
    "df = df.merge(target, on='id')"
   ]
  },
  {
   "cell_type": "code",
   "execution_count": null,
   "id": "edb4f139",
   "metadata": {},
   "outputs": [],
   "source": [
    "df = df.reset_index()"
   ]
  },
  {
   "cell_type": "code",
   "execution_count": null,
   "id": "ae1f8e08",
   "metadata": {},
   "outputs": [],
   "source": [
    "df['spacegroup'] = df['s'].apply(lambda x: x.get_space_group_info()[0])"
   ]
  },
  {
   "cell_type": "code",
   "execution_count": null,
   "id": "afab2562",
   "metadata": {},
   "outputs": [],
   "source": [
    "df['composition'] = df['s'].apply(lambda x: str(x.composition))"
   ]
  },
  {
   "cell_type": "code",
   "execution_count": null,
   "id": "6f81c52e",
   "metadata": {},
   "outputs": [],
   "source": [
    "df['composition'].value_counts()"
   ]
  },
  {
   "cell_type": "code",
   "execution_count": null,
   "id": "16bfe7c3",
   "metadata": {},
   "outputs": [],
   "source": [
    "plt.figure(figsize=(10, 3))\n",
    "plt.subplot(121)\n",
    "\n",
    "sns.stripplot(x='composition', y='band_gap', data=df, order=df['composition'].value_counts().index, size=5)\n",
    "plt.xticks(rotation=45, ha='right');\n",
    "\n",
    "plt.subplot(122)\n",
    "sns.stripplot('spacegroup', 'band_gap', data=df, order=df['spacegroup'].value_counts().index, size=5)\n",
    "plt.xticks(rotation=45, ha='right');"
   ]
  },
  {
   "cell_type": "code",
   "execution_count": null,
   "id": "f87a070c",
   "metadata": {},
   "outputs": [],
   "source": [
    "plt.figure(figsize=(10, 10))\n",
    "plt.subplot(121)\n",
    "sns.stripplot(x='composition', y='band_gap', data=df, order=df['composition'].value_counts().index, size=1)\n",
    "plt.xticks(rotation=45, ha='right');\n",
    "plt.gca().yaxis.set_minor_locator(IndexLocator(base=0.04, offset=0))\n",
    "plt.gca().grid(which='minor', color='#CCCCCC', linestyle=':')\n",
    "\n",
    "plt.subplot(122)\n",
    "sns.stripplot(x='spacegroup', y='band_gap', data=df, order=df['spacegroup'].value_counts().index, size=1)\n",
    "plt.xticks(rotation=45, ha='right');\n",
    "plt.gca().yaxis.set_minor_locator(IndexLocator(base=0.04, offset=0))\n",
    "plt.gca().grid(which='minor', color='#CCCCCC', linestyle=':')"
   ]
  },
  {
   "cell_type": "code",
   "execution_count": null,
   "id": "bf8e798b",
   "metadata": {},
   "outputs": [],
   "source": [
    "plt.figure(figsize=(15, 6))\n",
    "sns.stripplot(x='composition', y='band_gap', data=df, order=df['composition'].value_counts().index, size=1, hue='spacegroup', dodge='spacegroup')\n",
    "plt.xticks(rotation=45, ha='right');\n",
    "plt.gca().yaxis.set_minor_locator(IndexLocator(base=0.04, offset=0))\n",
    "plt.gca().grid(which='minor', color='#CCCCCC', linestyle=':')"
   ]
  },
  {
   "cell_type": "code",
   "execution_count": null,
   "id": "6b2e8d80",
   "metadata": {},
   "outputs": [],
   "source": [
    "fig = px.strip(data_frame=df, x='composition', y='band_gap', hover_name='index', color='spacegroup', stripmode='overlay')\n",
    "\n",
    "\n",
    "fig.update_traces(marker=dict(size=3,\n",
    "                              line=dict(width=0.1,\n",
    "                                        color='DarkSlateGrey')))\n"
   ]
  },
  {
   "cell_type": "code",
   "execution_count": null,
   "id": "5ab52b8e",
   "metadata": {},
   "outputs": [],
   "source": [
    "atom_names = {16: 'S', 42: 'Mo', 74: 'W', 34: 'Se'}\n",
    "atom_colors = {16: '#fcba03', 74: '#1764ff', 42: '#9c2496', 34: '#22ed0c'}\n",
    "\n",
    "def plot_legend(ax):\n",
    "    for k in atom_names.keys():\n",
    "        ax.scatter([], [], c=atom_colors[k], label=atom_names[k], s=125)\n",
    "    ax.legend(ncol=2)\n",
    "\n",
    "def plot_layer(ax, coord, atoms, size):\n",
    "    for atom_type in np.unique(atoms):\n",
    "        ind = (atoms == atom_type)\n",
    "        ax.scatter(*coord[ind].T[::-1], c=atom_colors[atom_type], s=size, edgecolors='grey')\n",
    "        ax.axis('off')\n",
    "    ax.plot([0, 22, 22, 0, 0], [-0.5, -13.5, 14, 26, -0.5], color='k', linewidth=0.3, alpha=0.3)\n",
    "\n",
    "def plot_structure(s, mode='mono', ax=None, legend=True):\n",
    "    \"\"\"\n",
    "    Function to plot structures.\n",
    "    \n",
    "    Parameters\n",
    "    ----------\n",
    "    s :\n",
    "        Pymatgen structure\n",
    "    mode :\n",
    "        'mono' to plot all three layers in one axis. In this case the top 'S' layer will be smaller, allowing to see the bottom layer as well.\n",
    "        'multi' to plot layers separately.\n",
    "    ax :\n",
    "        Matplotlib axis to plot on. Works only in 'mono' mode.\n",
    "    legend :\n",
    "        Plot legend or not\n",
    "    \"\"\"\n",
    "    \n",
    "    size = [125, 125, 125]\n",
    "    \n",
    "    if mode == 'multi':\n",
    "        fig, axs = plt.subplots(1, 3, figsize=(16, 5))\n",
    "        fig.suptitle(str(s.composition))\n",
    "    elif mode == 'mono':\n",
    "        size[2] = 45\n",
    "        if ax is None:\n",
    "            fig, axs = plt.subplots(1, 1, figsize=(6, 5))\n",
    "        else: \n",
    "            axs = ax\n",
    "        axs.set_title(str(s.composition))\n",
    "        fig = plt.gcf()\n",
    "        axs = [axs, axs, axs]\n",
    "        \n",
    "    \n",
    "    z_levels = np.array([2.154867, 3.719751, 5.284635])\n",
    "    layer_indx = [np.isclose(s.cart_coords[:, 2], l, rtol=1e-04, atol=1e-04) for l in z_levels]\n",
    "    \n",
    "    for ind, ax, size in zip(layer_indx, axs, size):\n",
    "        plot_layer(ax, s.cart_coords[ind, :2], np.array(s.atomic_numbers)[ind], size=size)\n",
    "        \n",
    "    if legend:\n",
    "        plot_legend(ax)"
   ]
  },
  {
   "cell_type": "code",
   "execution_count": null,
   "id": "1ec45ec0",
   "metadata": {},
   "outputs": [],
   "source": [
    "fig, axs = plt.subplots(3, 3, figsize=(15, 15))\n",
    "for ax, indx in zip(axs.flatten(), range(10)):\n",
    "    plot_structure(structures_public[indx], ax=ax)"
   ]
  },
  {
   "cell_type": "code",
   "execution_count": null,
   "id": "ad0516be",
   "metadata": {},
   "outputs": [],
   "source": []
  }
 ],
 "metadata": {
  "kernelspec": {
   "display_name": "Python [conda env:idao]",
   "language": "python",
   "name": "conda-env-idao-py"
  },
  "language_info": {
   "codemirror_mode": {
    "name": "ipython",
    "version": 3
   },
   "file_extension": ".py",
   "mimetype": "text/x-python",
   "name": "python",
   "nbconvert_exporter": "python",
   "pygments_lexer": "ipython3",
   "version": "3.9.7"
  }
 },
 "nbformat": 4,
 "nbformat_minor": 5
}
